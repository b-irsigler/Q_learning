{
 "cells": [
  {
   "cell_type": "code",
   "execution_count": 1,
   "metadata": {
    "collapsed": true
   },
   "outputs": [],
   "source": [
    "import numpy as np\n",
    "import matplotlib.pyplot as plt\n",
    "%matplotlib inline\n",
    "import random\n",
    "import math\n",
    "import copy"
   ]
  },
  {
   "cell_type": "code",
   "execution_count": 333,
   "metadata": {
    "collapsed": true
   },
   "outputs": [],
   "source": [
    "class game:\n",
    "    def __init__(self, Ncolor,Nempty):\n",
    "        self.Ncolor = Ncolor\n",
    "        self.Nempty = Nempty\n",
    "        temp = []\n",
    "        for i in range(Ncolor):\n",
    "            temp.append([i,i,i,i])\n",
    "        for i in range(Nempty):\n",
    "            temp.append([])\n",
    "        self.grid = temp\n",
    "\n",
    "    def flip(self,initial,final):\n",
    "        temp1 = self.grid[initial]\n",
    "        temp2 = self.grid[final]\n",
    "        if len(temp1) > 0 and len(temp2)<4:\n",
    "            temp2.append(temp1.pop())\n",
    "            \n",
    "    def shuffle(self,count):\n",
    "        N = self.Ncolor + self.Nempty\n",
    "        for i in range(count):\n",
    "            lengths = list(map(len,self.grid))\n",
    "            initials = np.argwhere(np.array(lengths)>0).flatten().tolist()\n",
    "            finals = np.argwhere(np.array(lengths)<4).flatten().tolist()\n",
    "            initial = random.choice(initials)\n",
    "            if finals.count(initial) == 1:\n",
    "                finals.remove(initial)\n",
    "            final = random.choice(finals)\n",
    "            self.flip(initial, final)\n",
    "            \n",
    "    def finalize(self):\n",
    "        lengths = list(map(len,self.grid))\n",
    "        finals = np.argwhere(np.array(lengths)<4).flatten().tolist()\n",
    "        for i in range(self.Ncolor,self.Ncolor + self.Nempty):\n",
    "            if finals.count(i) == 1:\n",
    "                    finals.remove(i)\n",
    "        for i in range(self.Ncolor,self.Ncolor + self.Nempty):\n",
    "            while len(self.grid[i])>0:\n",
    "                self.flip(i,random.choice(finals))\n",
    "    \n",
    "    def entropy(self):\n",
    "        S = 0\n",
    "        N = self.Ncolor + self.Nempty\n",
    "        for i in range(N):\n",
    "            x = np.unique(np.array(self.grid[i]),return_counts=True)[1]/4.\n",
    "            S += np.sum(x*np.log(x))\n",
    "        return S# + self.Ncolor*np.log(4)\n",
    "    \n",
    "    def action(self,initial, final):\n",
    "        if len(self.grid[initial]) > 0:\n",
    "            temp = self.grid[initial][-1]\n",
    "            if len(self.grid[final]) == 0 or (len(self.grid[final]) < 4 and self.grid[final][-1] == temp):\n",
    "                self.grid[initial].pop()\n",
    "                self.grid[final].append(temp)\n",
    "                \n",
    "    def step(self,action):\n",
    "        N = self.Ncolor + self.Nempty\n",
    "        initial = action // N\n",
    "        final = action % N\n",
    "        self.action(initial,final)\n",
    "        reward = self.entropy()\n",
    "        return self.grid, reward, reward == 0#self.Ncolor*np.log(4)\n",
    "    \n",
    "    def toArray(self):\n",
    "        lengths = list(map(len,self.grid))\n",
    "        temp = []\n",
    "        temp = copy.deepcopy(self.grid)\n",
    "        for i in range(4):\n",
    "            for j in np.argwhere(np.array(lengths)==i).flatten().tolist():\n",
    "                for k in range(4-i):\n",
    "                    temp[j].append(np.nan)\n",
    "        return str(np.array(temp).flatten())\n",
    "    \n",
    "    def __delete__(self, instance):\n",
    "        del self.grid"
   ]
  },
  {
   "cell_type": "code",
   "execution_count": 3,
   "metadata": {
    "collapsed": true
   },
   "outputs": [],
   "source": [
    "Game = game(2,1)"
   ]
  },
  {
   "cell_type": "code",
   "execution_count": 4,
   "metadata": {},
   "outputs": [
    {
     "data": {
      "text/plain": [
       "[[0, 0, 0, 0], [1, 1, 1, 1], []]"
      ]
     },
     "execution_count": 4,
     "metadata": {},
     "output_type": "execute_result"
    }
   ],
   "source": [
    "Game.grid"
   ]
  },
  {
   "cell_type": "code",
   "execution_count": 5,
   "metadata": {},
   "outputs": [
    {
     "data": {
      "text/plain": [
       "('[ 0.  0.  0.  0.  1.  1.  1.  1. nan nan nan nan]', 0.0, True)"
      ]
     },
     "execution_count": 5,
     "metadata": {},
     "output_type": "execute_result"
    }
   ],
   "source": [
    "Game.step(3)"
   ]
  },
  {
   "cell_type": "code",
   "execution_count": 6,
   "metadata": {},
   "outputs": [
    {
     "data": {
      "text/plain": [
       "[[0, 0, 0, 0], [1, 1, 1, 1], []]"
      ]
     },
     "execution_count": 6,
     "metadata": {},
     "output_type": "execute_result"
    }
   ],
   "source": [
    "Game.grid"
   ]
  },
  {
   "cell_type": "code",
   "execution_count": 95,
   "metadata": {
    "collapsed": true
   },
   "outputs": [],
   "source": [
    "Game.shuffle(100)"
   ]
  },
  {
   "cell_type": "code",
   "execution_count": 96,
   "metadata": {},
   "outputs": [
    {
     "data": {
      "text/plain": [
       "[[0, 0, 1, 0], [], [0, 1, 1, 1]]"
      ]
     },
     "execution_count": 96,
     "metadata": {},
     "output_type": "execute_result"
    }
   ],
   "source": [
    "Game.grid"
   ]
  },
  {
   "cell_type": "code",
   "execution_count": 97,
   "metadata": {
    "collapsed": true
   },
   "outputs": [],
   "source": [
    "Game.finalize()"
   ]
  },
  {
   "cell_type": "code",
   "execution_count": 98,
   "metadata": {},
   "outputs": [
    {
     "data": {
      "text/plain": [
       "[[0, 0, 1, 0], [1, 1, 1, 0], []]"
      ]
     },
     "execution_count": 98,
     "metadata": {},
     "output_type": "execute_result"
    }
   ],
   "source": [
    "Game.grid"
   ]
  },
  {
   "cell_type": "code",
   "execution_count": 192,
   "metadata": {
    "collapsed": true
   },
   "outputs": [],
   "source": [
    "Game.action(0,1)"
   ]
  },
  {
   "cell_type": "code",
   "execution_count": null,
   "metadata": {
    "collapsed": true
   },
   "outputs": [],
   "source": []
  },
  {
   "cell_type": "code",
   "execution_count": 223,
   "metadata": {
    "collapsed": true
   },
   "outputs": [],
   "source": [
    "Nshuffles, Nsamples = 200, 50\n",
    "A = np.zeros((Nshuffles,Nsamples))\n",
    "\n",
    "for i in range(Nshuffles):\n",
    "    for j in range(Nsamples):\n",
    "        Game = game(4,2)\n",
    "        Game.shuffle(i)\n",
    "        Game.finalize()\n",
    "        A[i,j] = Game.entropy()"
   ]
  },
  {
   "cell_type": "code",
   "execution_count": null,
   "metadata": {
    "collapsed": true
   },
   "outputs": [],
   "source": []
  },
  {
   "cell_type": "code",
   "execution_count": 226,
   "metadata": {},
   "outputs": [
    {
     "data": {
      "text/plain": [
       "<matplotlib.collections.PolyCollection at 0x1cb3f583a90>"
      ]
     },
     "execution_count": 226,
     "metadata": {},
     "output_type": "execute_result"
    },
    {
     "data": {
      "image/png": "[encoded data removed]",
      "text/plain": [
       "<matplotlib.figure.Figure at 0x1cb3f5adc50>"
      ]
     },
     "metadata": {},
     "output_type": "display_data"
    }
   ],
   "source": [
    "Aavg, Astd = np.average(A,axis=1), np.std(A,axis=1)\n",
    "plt.plot(np.arange(Nshuffles),Aavg)\n",
    "plt.fill_between(np.arange(Nshuffles),Aavg+Astd,Aavg-Astd,alpha=.5)\n",
    "#plt.plot([0,Nshuffles-1],[-4*np.log(4),-4*np.log(4)])"
   ]
  },
  {
   "cell_type": "code",
   "execution_count": 225,
   "metadata": {},
   "outputs": [
    {
     "data": {
      "text/plain": [
       "(array([ 1.,  0.,  8.,  0.,  4., 17.,  1., 14.,  2.,  3.]),\n",
       " array([0.        , 0.23410656, 0.46821312, 0.70231968, 0.93642625,\n",
       "        1.17053281, 1.40463937, 1.63874593, 1.87285249, 2.10695905,\n",
       "        2.34106561]),\n",
       " <a list of 10 Patch objects>)"
      ]
     },
     "execution_count": 225,
     "metadata": {},
     "output_type": "execute_result"
    },
    {
     "data": {
      "image/png": "[encoded data removed]",
      "text/plain": [
       "<matplotlib.figure.Figure at 0x1cb3f4be550>"
      ]
     },
     "metadata": {},
     "output_type": "display_data"
    }
   ],
   "source": [
    "plt.hist(A[-1,:])"
   ]
  },
  {
   "cell_type": "code",
   "execution_count": 221,
   "metadata": {},
   "outputs": [
    {
     "data": {
      "text/plain": [
       "-6.931471805599453"
      ]
     },
     "execution_count": 221,
     "metadata": {},
     "output_type": "execute_result"
    }
   ],
   "source": [
    "-5*np.log(4)"
   ]
  },
  {
   "cell_type": "code",
   "execution_count": 202,
   "metadata": {
    "collapsed": true
   },
   "outputs": [],
   "source": [
    "Game = game(5,2)"
   ]
  },
  {
   "cell_type": "code",
   "execution_count": 203,
   "metadata": {
    "collapsed": true
   },
   "outputs": [],
   "source": [
    "Game.shuffle(100)"
   ]
  },
  {
   "cell_type": "code",
   "execution_count": 219,
   "metadata": {},
   "outputs": [
    {
     "data": {
      "text/plain": [
       "[[0, 1, 4, 3], [1, 3, 0, 2], [4, 3, 1, 2], [3, 4, 0, 2], [4, 0, 1, 2], [], []]"
      ]
     },
     "execution_count": 219,
     "metadata": {},
     "output_type": "execute_result"
    }
   ],
   "source": [
    "Game.flip(5,3)\n",
    "Game.grid"
   ]
  },
  {
   "cell_type": "code",
   "execution_count": 220,
   "metadata": {},
   "outputs": [
    {
     "data": {
      "text/plain": [
       "-6.931471805599453"
      ]
     },
     "execution_count": 220,
     "metadata": {},
     "output_type": "execute_result"
    }
   ],
   "source": [
    "Game.entropy()"
   ]
  },
  {
   "cell_type": "code",
   "execution_count": 193,
   "metadata": {
    "collapsed": true
   },
   "outputs": [],
   "source": [
    "#reinforcement learning with Q table"
   ]
  },
  {
   "cell_type": "code",
   "execution_count": 283,
   "metadata": {
    "collapsed": true
   },
   "outputs": [],
   "source": [
    "lr, y = .8, .95\n",
    "Nc, Ne = 6,2 \n",
    "N = Nc + Ne\n",
    "Nstates = 0\n",
    "for i in range(Nc):\n",
    "    Nstates += math.factorial(4*(i+1))//(math.factorial(4)*math.factorial(4*i))\n",
    "Nactions = N*(N-1)\n",
    "Nshuffle = 100\n",
    "Q = np.zeros((Nstates,Nactions))#Nc*np.log(4)*np.ones((Nstates,Nactions))#np.zeros((Nstates,Nactions))"
   ]
  },
  {
   "cell_type": "code",
   "execution_count": 306,
   "metadata": {
    "collapsed": true
   },
   "outputs": [],
   "source": [
    "Game = game(Nc,Ne)\n",
    "Game.shuffle(Nshuffle)\n",
    "Game.finalize()\n",
    "safe = copy.deepcopy(Game.grid)"
   ]
  },
  {
   "cell_type": "code",
   "execution_count": 307,
   "metadata": {},
   "outputs": [
    {
     "data": {
      "text/plain": [
       "[[0, 1, 3, 4],\n",
       " [1, 1, 1, 5],\n",
       " [2, 2, 3, 5],\n",
       " [0, 3, 4, 2],\n",
       " [4, 4, 5, 2],\n",
       " [5, 3, 0, 0],\n",
       " [],\n",
       " []]"
      ]
     },
     "execution_count": 307,
     "metadata": {},
     "output_type": "execute_result"
    }
   ],
   "source": [
    "safe"
   ]
  },
  {
   "cell_type": "code",
   "execution_count": 286,
   "metadata": {
    "collapsed": true
   },
   "outputs": [],
   "source": [
    "def compare(state1,state2):\n",
    "    a = list(map(tuple,state1))\n",
    "    b = list(map(tuple,state2))\n",
    "    return a == b"
   ]
  },
  {
   "cell_type": "code",
   "execution_count": 341,
   "metadata": {},
   "outputs": [
    {
     "name": "stdout",
     "output_type": "stream",
     "text": [
      "start:  [[0, 1, 3, 4], [1, 1, 1, 5], [2, 2, 3, 5], [0, 3, 4, 2], [4, 4, 5, 2], [5, 3, 0, 0], [], []]\n",
      "end:  [[5, 5, 5], [1, 1, 1, 1], [2, 2, 2, 2], [3, 3, 3, 3], [4, 4, 4, 4], [], [5], [0, 0, 0, 0]]\n",
      "start:  [[0, 1, 3, 4], [1, 1, 1, 5], [2, 2, 3, 5], [0, 3, 4, 2], [4, 4, 5, 2], [5, 3, 0, 0], [], []]\n",
      "end:  [[], [1, 1, 1, 1], [2, 2, 2, 2], [0, 0, 0, 0], [4, 4, 4, 4], [], [5, 5, 5, 5], [3, 3, 3, 3]]\n",
      "start:  [[0, 1, 3, 4], [1, 1, 1, 5], [2, 2, 3, 5], [0, 3, 4, 2], [4, 4, 5, 2], [5, 3, 0, 0], [], []]\n",
      "end:  [[3, 3, 3, 3], [1, 1, 1, 1], [2, 2, 2, 2], [], [], [4, 4, 4, 4], [5, 5, 5, 5], [0, 0, 0, 0]]\n",
      "start:  [[0, 1, 3, 4], [1, 1, 1, 5], [2, 2, 3, 5], [0, 3, 4, 2], [4, 4, 5, 2], [5, 3, 0, 0], [], []]\n",
      "end:  [[0, 0, 0, 0], [1, 1, 1, 1], [2, 2, 2, 2], [4, 4, 4, 4], [], [], [3, 3, 3, 3], [5, 5, 5, 5]]\n",
      "start:  [[0, 1, 3, 4], [1, 1, 1, 5], [2, 2, 3, 5], [0, 3, 4, 2], [4, 4, 5, 2], [5, 3, 0, 0], [], []]\n",
      "end:  [[], [1, 1, 1, 1], [2, 2, 2, 2], [0, 0, 0, 0], [4, 4, 4, 4], [], [3, 3, 3, 3], [5, 5, 5, 5]]\n",
      "start:  [[0, 1, 3, 4], [1, 1, 1, 5], [2, 2, 3, 5], [0, 3, 4, 2], [4, 4, 5, 2], [5, 3, 0, 0], [], []]\n",
      "end:  [[0, 0, 0, 0], [1, 1, 1, 1], [], [3, 3, 3, 3], [4, 4, 4, 4], [], [2, 2, 2, 2], [5, 5, 5, 5]]\n",
      "start:  [[0, 1, 3, 4], [1, 1, 1, 5], [2, 2, 3, 5], [0, 3, 4, 2], [4, 4, 5, 2], [5, 3, 0, 0], [], []]\n",
      "end:  [[5, 5, 5], [1, 1, 1, 1], [], [4, 4, 4, 4], [0, 0, 0, 0], [5], [3, 3, 3, 3], [2, 2, 2, 2]]\n",
      "start:  [[0, 1, 3, 4], [1, 1, 1, 5], [2, 2, 3, 5], [0, 3, 4, 2], [4, 4, 5, 2], [5, 3, 0, 0], [], []]\n",
      "end:  [[0, 0, 0, 0], [1, 1, 1, 1], [3, 3], [3, 3], [4, 4, 4, 4], [5, 5, 5], [5], [2, 2, 2, 2]]\n",
      "start:  [[0, 1, 3, 4], [1, 1, 1, 5], [2, 2, 3, 5], [0, 3, 4, 2], [4, 4, 5, 2], [5, 3, 0, 0], [], []]\n",
      "end:  [[0, 0, 0, 0], [1, 1, 1, 1], [2, 2, 2, 2], [], [3, 3, 3, 3], [], [4, 4, 4, 4], [5, 5, 5, 5]]\n",
      "start:  [[0, 1, 3, 4], [1, 1, 1, 5], [2, 2, 3, 5], [0, 3, 4, 2], [4, 4, 5, 2], [5, 3, 0, 0], [], []]\n",
      "end:  [[], [2, 2, 2, 2], [0, 0, 0, 0], [], [4, 4, 4, 4], [3, 3, 3, 3], [1, 1, 1, 1], [5, 5, 5, 5]]\n"
     ]
    }
   ],
   "source": [
    "Nepisodes, Ngreed = 10, 1000\n",
    "allRewards = []\n",
    "\n",
    "for i in range(Nepisodes):\n",
    "    Game.grid = copy.deepcopy(safe)\n",
    "    #Q = np.zeros((Nstates,Nactions))\n",
    "    \n",
    "    s = 0\n",
    "    d = False\n",
    "    totalReward = 0\n",
    "    history = []\n",
    "    history.append(s)\n",
    "    rewards = []\n",
    "    rewards.append(Game.entropy())\n",
    "    statesList = []\n",
    "    statesList.append(Game.grid)\n",
    "    print('start: ', Game.grid)\n",
    "    for j in range(Ngreed):\n",
    "        a = np.argmax(Q[s,:] + np.random.randn(Nactions)*1/(i+1))\n",
    "        state1, r, d = Game.step(a)\n",
    "        #print(Game.grid)\n",
    "        if statesList.count(state1) == 0:\n",
    "            s1 = len(statesList)+1\n",
    "            statesList.append(state1)\n",
    "        else:\n",
    "            s1 = statesList.index(state1)\n",
    "        Q[s,a] += lr*(r + y*np.max(Q[s1,:]) - Q[s,a])\n",
    "        totalReward += r\n",
    "        rewards.append(r)\n",
    "        history.append(s1)\n",
    "        s = s1\n",
    "        #if j >1000 and s == history[-2]:\n",
    "        #    break\n",
    "        if d:\n",
    "            break\n",
    "    allRewards.append(rewards)\n",
    "    print('end: ',Game.grid)"
   ]
  },
  {
   "cell_type": "code",
   "execution_count": 342,
   "metadata": {},
   "outputs": [
    {
     "data": {
      "text/plain": [
       "<matplotlib.legend.Legend at 0x1cb3f71def0>"
      ]
     },
     "execution_count": 342,
     "metadata": {},
     "output_type": "execute_result"
    },
    {
     "data": {
      "image/png": "[encoded data removed]",
      "text/plain": [
       "<matplotlib.figure.Figure at 0x1cb3f71df28>"
      ]
     },
     "metadata": {},
     "output_type": "display_data"
    }
   ],
   "source": [
    "for i in range(Nepisodes):\n",
    "    plt.plot(allRewards[i],'.',label='episode: {}'.format(i))\n",
    "plt.legend()"
   ]
  },
  {
   "cell_type": "code",
   "execution_count": 343,
   "metadata": {},
   "outputs": [
    {
     "data": {
      "image/png": "[encoded data removed]",
      "text/plain": [
       "<matplotlib.figure.Figure at 0x1cb41addc50>"
      ]
     },
     "metadata": {},
     "output_type": "display_data"
    }
   ],
   "source": [
    "for i in range(Nepisodes):\n",
    "    plt.plot(i,allRewards[i][-1],'.')"
   ]
  },
  {
   "cell_type": "code",
   "execution_count": 344,
   "metadata": {},
   "outputs": [
    {
     "data": {
      "text/plain": [
       "-2144.6603680403687"
      ]
     },
     "execution_count": 344,
     "metadata": {},
     "output_type": "execute_result"
    }
   ],
   "source": [
    "totalReward"
   ]
  },
  {
   "cell_type": "code",
   "execution_count": 345,
   "metadata": {},
   "outputs": [
    {
     "data": {
      "text/plain": [
       "<matplotlib.colorbar.Colorbar at 0x1cb426a7908>"
      ]
     },
     "execution_count": 345,
     "metadata": {},
     "output_type": "execute_result"
    },
    {
     "data": {
      "image/png": "[encoded data removed]",
      "text/plain": [
       "<matplotlib.figure.Figure at 0x1cb41b1fa20>"
      ]
     },
     "metadata": {},
     "output_type": "display_data"
    }
   ],
   "source": [
    "plt.imshow(Q[:100],aspect='auto',cmap='Spectral')\n",
    "plt.colorbar()"
   ]
  },
  {
   "cell_type": "code",
   "execution_count": 346,
   "metadata": {},
   "outputs": [
    {
     "data": {
      "text/plain": [
       "[<matplotlib.lines.Line2D at 0x1cb4280cc50>]"
      ]
     },
     "execution_count": 346,
     "metadata": {},
     "output_type": "execute_result"
    },
    {
     "data": {
      "image/png": "[encoded data removed]",
      "text/plain": [
       "<matplotlib.figure.Figure at 0x1cb42784f28>"
      ]
     },
     "metadata": {},
     "output_type": "display_data"
    }
   ],
   "source": [
    "plt.plot(Q[:100].sum(axis=1),'.')"
   ]
  },
  {
   "cell_type": "code",
   "execution_count": null,
   "metadata": {
    "collapsed": true
   },
   "outputs": [],
   "source": []
  }
 ],
 "metadata": {
  "kernelspec": {
   "display_name": "Python 3",
   "language": "python",
   "name": "python3"
  },
  "language_info": {
   "codemirror_mode": {
    "name": "ipython",
    "version": 3
   },
   "file_extension": ".py",
   "mimetype": "text/x-python",
   "name": "python",
   "nbconvert_exporter": "python",
   "pygments_lexer": "ipython3",
   "version": "3.6.1"
  }
 },
 "nbformat": 4,
 "nbformat_minor": 2
}
